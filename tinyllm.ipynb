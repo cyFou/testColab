{
  "cells": [
    {
      "cell_type": "markdown",
      "metadata": {
        "id": "view-in-github",
        "colab_type": "text"
      },
      "source": [
        "<a href=\"https://colab.research.google.com/github/cyFou/testColab/blob/main/tinyllm.ipynb\" target=\"_parent\"><img src=\"https://colab.research.google.com/assets/colab-badge.svg\" alt=\"Open In Colab\"/></a>"
      ]
    },
    {
      "cell_type": "markdown",
      "source": [
        "Implementation de https://devshahs.medium.com/build-gpt-with-me-implementing-gpt-from-scratch-step-by-step-b2efe4e2f7e0\n"
      ],
      "metadata": {
        "id": "Ful9_femXKTv"
      }
    },
    {
      "cell_type": "code",
      "source": [
        "# !wget https://raw.githubusercontent.com/karpathy/char-rnn/master/data/tinyshakespeare/input.txt"
      ],
      "metadata": {
        "id": "-qMcLuzqVEwP"
      },
      "execution_count": null,
      "outputs": []
    },
    {
      "cell_type": "code",
      "source": [
        "# prompt: Assuming that you have all the contents of the file stored in a variable called text\n",
        "if False:\n",
        "  # Read the file content into the 'text' variable\n",
        "  with open('input.txt', 'r') as file:\n",
        "    text = file.read()\n",
        "\n",
        "  chars = sorted(list(set(text))) #get all the characters in the first 1000 characters\n",
        "  vocab_size = len(chars) # get the size of it\n",
        "\n",
        "  print(chars)\n",
        "  print(vocab_size)"
      ],
      "metadata": {
        "id": "F8EV48waWeHf"
      },
      "execution_count": null,
      "outputs": []
    },
    {
      "cell_type": "code",
      "source": [
        "# faire un ctrl C en fonction de la taille souhaité du jdd\n",
        "!wget https://www.modelscope.cn/datasets/deepctrl/deepctrl-sft-data/resolve/master/sft_data_en.jsonl"
      ],
      "metadata": {
        "colab": {
          "base_uri": "https://localhost:8080/"
        },
        "id": "p8RxLchItBQ9",
        "outputId": "516fa3df-38e0-48cb-d983-facc84232fd8"
      },
      "execution_count": 15,
      "outputs": [
        {
          "output_type": "stream",
          "name": "stdout",
          "text": [
            "--2025-03-14 12:56:05--  https://www.modelscope.cn/datasets/deepctrl/deepctrl-sft-data/resolve/master/sft_data_en.jsonl\n",
            "Resolving www.modelscope.cn (www.modelscope.cn)... 47.251.62.57\n",
            "Connecting to www.modelscope.cn (www.modelscope.cn)|47.251.62.57|:443... connected.\n",
            "HTTP request sent, awaiting response... 200 \n",
            "Length: unspecified [application/octet-stream]\n",
            "Saving to: ‘sft_data_en.jsonl.1’\n",
            "\n",
            "sft_data_en.jsonl.1     [ <=>                ]  77.92M  1.94MB/s               ^C\n"
          ]
        }
      ]
    },
    {
      "cell_type": "code",
      "source": [
        "# Supprimer la dernière ligne du fichier sft_data_en.jsonl car mal formaté du fait du Ctrl C\n",
        "!sed -i '$d' sft_data_en.jsonl.1\n"
      ],
      "metadata": {
        "id": "xBmPTblYtEvG"
      },
      "execution_count": 20,
      "outputs": []
    },
    {
      "cell_type": "code",
      "source": [
        "import json\n",
        "from tqdm import tqdm\n",
        "\n",
        "file_path = \"sft_data_en.jsonl.1\" # Downloaded filepath (23 GB RAM REQUIRED!!!!!!!!!!!!!!!!!!!!!)\n",
        "\n",
        "# Read the JSONL file with tqdm progress bar\n",
        "data = []\n",
        "with open(file_path, \"r\", encoding=\"utf-8\") as file:\n",
        "    # Iterate through each line of the JSONL file\n",
        "    for line in tqdm(file, desc=\"Loading JSONL file\"):\n",
        "        # Parse each line as a JSON object and append to data\n",
        "        data.append(json.loads(line))\n",
        "\n",
        "print(len(data))"
      ],
      "metadata": {
        "colab": {
          "base_uri": "https://localhost:8080/"
        },
        "id": "e5X_KZy0tXfx",
        "outputId": "1021ce67-0e19-4c02-a48c-5b6fd599edd0"
      },
      "execution_count": 21,
      "outputs": [
        {
          "output_type": "stream",
          "name": "stderr",
          "text": [
            "Loading JSONL file: 10759it [00:01, 9755.25it/s]\n"
          ]
        }
      ]
    },
    {
      "cell_type": "code",
      "source": [],
      "metadata": {
        "colab": {
          "base_uri": "https://localhost:8080/"
        },
        "id": "xgiF9xaAtiOP",
        "outputId": "085e0a18-bedd-4690-ee07-bb9e20f49e49"
      },
      "execution_count": 22,
      "outputs": [
        {
          "output_type": "stream",
          "name": "stdout",
          "text": [
            "10759\n"
          ]
        }
      ]
    },
    {
      "cell_type": "code",
      "source": [
        "# Define the output file name\n",
        "output_file = \"petrain_data.jsonl\"\n",
        "\n",
        "lenAfterFilter = 0\n",
        "# Write data to JSONL format\n",
        "with open(output_file, \"w\", encoding=\"utf-8\") as f:\n",
        "    for item in data:\n",
        "        # Check input + output length condition\n",
        "        io_length = len(item['input']) + len(item['output'])\n",
        "        if io_length < 512:  # Only keep valid entries\n",
        "            json.dump({\"text\": f\"{item['input']}\\n{item['output']}\"}, f, ensure_ascii=False)\n",
        "            f.write(\"\\n\")  # Newline for each JSONL entry\n",
        "            lenAfterFilter+=1\n",
        "\n",
        "print(f\"New JSONL file saved as {output_file}\")\n",
        "\n",
        "print(lenAfterFilter)"
      ],
      "metadata": {
        "colab": {
          "base_uri": "https://localhost:8080/"
        },
        "id": "SKIpX2vWuPdP",
        "outputId": "7b91832f-496f-4a02-da62-842abaab0e45"
      },
      "execution_count": 23,
      "outputs": [
        {
          "output_type": "stream",
          "name": "stdout",
          "text": [
            "New JSONL file saved as petrain_data.jsonl\n",
            "1132\n"
          ]
        }
      ]
    }
  ],
  "metadata": {
    "colab": {
      "name": "Bienvenue dans Colaboratory",
      "provenance": [],
      "include_colab_link": true
    },
    "kernelspec": {
      "display_name": "Python 3",
      "name": "python3"
    }
  },
  "nbformat": 4,
  "nbformat_minor": 0
}